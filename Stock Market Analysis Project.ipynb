{
 "cells": [
  {
   "cell_type": "code",
   "execution_count": 1,
   "id": "ef7531d2",
   "metadata": {},
   "outputs": [],
   "source": [
    "import numpy as np\n",
    "import pandas as pd\n",
    "import warnings\n",
    "warnings.simplefilter(\"ignore\")\n",
    "import clean_nse as clean # import our own defined model"
   ]
  },
  {
   "cell_type": "markdown",
   "id": "91002c02",
   "metadata": {},
   "source": [
    "# Data Collection"
   ]
  },
  {
   "cell_type": "code",
   "execution_count": 2,
   "id": "adb4ca05",
   "metadata": {},
   "outputs": [],
   "source": [
    "df1 = pd.read_excel(\"2019.xlsx\")\n",
    "df2 = pd.read_excel(\"2020.xlsx\")\n",
    "df3 = pd.read_excel(\"2021.xlsx\")\n",
    "df4 = pd.read_excel(\"2022.xlsx\")\n",
    "df5 = pd.read_excel(\"2023_march.xlsx\")\n",
    "df = pd.concat([df1,df2,df3,df4,df5],ignore_index = True)"
   ]
  },
  {
   "cell_type": "markdown",
   "id": "0ab746c9",
   "metadata": {},
   "source": [
    "# Data Cleaning"
   ]
  },
  {
   "cell_type": "markdown",
   "id": "15067253",
   "metadata": {},
   "source": [
    " **1. Renaming Columns**"
   ]
  },
  {
   "cell_type": "code",
   "execution_count": 3,
   "id": "c0a1f009",
   "metadata": {},
   "outputs": [],
   "source": [
    "df = clean.renaming_columns(df)"
   ]
  },
  {
   "cell_type": "markdown",
   "id": "358a2a38",
   "metadata": {},
   "source": [
    "**2. Replacing Client Names & Selecting only Investors**"
   ]
  },
  {
   "cell_type": "code",
   "execution_count": 4,
   "id": "4d5b2d3f",
   "metadata": {},
   "outputs": [],
   "source": [
    "df = clean.client_names(df)"
   ]
  },
  {
   "cell_type": "markdown",
   "id": "8275fc18",
   "metadata": {},
   "source": [
    "**3. Replacing the Symbol & Removing Delisted Symbols** "
   ]
  },
  {
   "cell_type": "code",
   "execution_count": 5,
   "id": "849d1bc8",
   "metadata": {},
   "outputs": [],
   "source": [
    "df = clean.replace_symbol(df)"
   ]
  },
  {
   "cell_type": "markdown",
   "id": "67992a1f",
   "metadata": {},
   "source": [
    "**4. Merging the Similar Rows** "
   ]
  },
  {
   "cell_type": "code",
   "execution_count": 6,
   "id": "94e04883",
   "metadata": {},
   "outputs": [],
   "source": [
    "df = clean.merge_rows(df)"
   ]
  },
  {
   "cell_type": "markdown",
   "id": "851dfd75",
   "metadata": {},
   "source": [
    "**5. Drop the Traded Records (Buy & Sell on same day) by Investors Considering only Buy in calculation & Plots**"
   ]
  },
  {
   "cell_type": "code",
   "execution_count": 7,
   "id": "7875917b",
   "metadata": {},
   "outputs": [],
   "source": [
    "df = clean.drop_traders(df)"
   ]
  },
  {
   "cell_type": "markdown",
   "id": "943c8d17",
   "metadata": {},
   "source": [
    "**6. Create new column based on fii/dii**"
   ]
  },
  {
   "cell_type": "code",
   "execution_count": 8,
   "id": "30a3cda5",
   "metadata": {},
   "outputs": [],
   "source": [
    "df = clean.fii_dii(df)"
   ]
  },
  {
   "cell_type": "markdown",
   "id": "63288ac0",
   "metadata": {},
   "source": [
    "**7. Create some new columns next year date, next year price, etc.**"
   ]
  },
  {
   "cell_type": "code",
   "execution_count": 9,
   "id": "9a236c48",
   "metadata": {},
   "outputs": [],
   "source": [
    "df=clean.after_1yr_date_and_price(df)"
   ]
  },
  {
   "cell_type": "code",
   "execution_count": 10,
   "id": "a196541a",
   "metadata": {},
   "outputs": [],
   "source": [
    "df=clean.additional_columns(df)"
   ]
  },
  {
   "cell_type": "markdown",
   "id": "a4269aad",
   "metadata": {},
   "source": [
    "# Data Analysis"
   ]
  },
  {
   "cell_type": "code",
   "execution_count": 11,
   "id": "a7c58cf9",
   "metadata": {},
   "outputs": [],
   "source": [
    "df=clean.apply_our_final_strategy(df)"
   ]
  },
  {
   "cell_type": "markdown",
   "id": "598f6105",
   "metadata": {},
   "source": [
    "# Data Interpretation & Final Result"
   ]
  },
  {
   "cell_type": "code",
   "execution_count": 12,
   "id": "4ae3fcd5",
   "metadata": {},
   "outputs": [
    {
     "name": "stdout",
     "output_type": "stream",
     "text": [
      "------------------------------------------------------------ \u001b[1m2019\u001b[0m ---------------------------------\n",
      "Totall Invested Amount in Cr                                 : 943.81353\n",
      "After one year Value in Cr                                   : 1378.2372091500001\n",
      "Accuracy(no. of profitable trades/no. of trades in this year): 100.0 %\n",
      "Overall Profit/Loss %                                        : 46.02854963840157 %\n",
      "------------------------------------------------------------ \u001b[1m2020\u001b[0m ---------------------------------\n",
      "Totall Invested Amount in Cr                                 : 545.616695965\n",
      "After one year Value in Cr                                   : 846.41167273\n",
      "Accuracy(no. of profitable trades/no. of trades in this year): 100.0 %\n",
      "Overall Profit/Loss %                                        : 55.12935710902352 %\n",
      "------------------------------------------------------------ \u001b[1m2021\u001b[0m ---------------------------------\n",
      "Totall Invested Amount in Cr                                 : 2163.494972425\n",
      "After one year Value in Cr                                   : 2521.8631218500004\n",
      "Accuracy(no. of profitable trades/no. of trades in this year): 100.0 %\n",
      "Overall Profit/Loss %                                        : 16.564316256455903 %\n",
      "------------------------------------------------------------ \u001b[1m2022\u001b[0m ---------------------------------\n",
      "Totall Invested Amount in Cr                                 : 1652.47715631\n",
      "After one year Value in Cr                                   : 2676.900334785\n",
      "Accuracy(no. of profitable trades/no. of trades in this year): 100.0 %\n",
      "Overall Profit/Loss %                                        : 61.99318245116005 %\n",
      "------------------------------------------------------------ \u001b[1m2023\u001b[0m ---------------------------------\n",
      "Totall Invested Amount in Cr                                 : 403.225803912\n",
      "After one year Value in Cr                                   : 1010.58182518\n",
      "Accuracy(no. of profitable trades/no. of trades in this year): 100.0 %\n",
      "Overall Profit/Loss %                                        : 150.62429422313195 %\n",
      "-------------------------------------------------------- \u001b[1m2019-2023\u001b[0m ----------------------------\n",
      "Totall Invested Amount in Cr in Last 5 year                    : 5708.628158611999\n",
      "After one year Value in Cr in Last 5 year                      : 8433.994163695\n",
      "Accuracy(no. of profitable trades/no. of trades in last 5 year): 100.0 %\n",
      "Overall Profit/Loss %                                          : 47.74117229848876 %\n"
     ]
    }
   ],
   "source": [
    "clean.print_details(df)"
   ]
  },
  {
   "cell_type": "code",
   "execution_count": null,
   "id": "0d35f053",
   "metadata": {},
   "outputs": [],
   "source": []
  }
 ],
 "metadata": {
  "kernelspec": {
   "display_name": "Python 3 (ipykernel)",
   "language": "python",
   "name": "python3"
  },
  "language_info": {
   "codemirror_mode": {
    "name": "ipython",
    "version": 3
   },
   "file_extension": ".py",
   "mimetype": "text/x-python",
   "name": "python",
   "nbconvert_exporter": "python",
   "pygments_lexer": "ipython3",
   "version": "3.11.4"
  }
 },
 "nbformat": 4,
 "nbformat_minor": 5
}
